{
 "cells": [
  {
   "cell_type": "code",
   "execution_count": 7,
   "metadata": {},
   "outputs": [],
   "source": [
    "%matplotlib inline \n",
    "import matplotlib.pyplot as plt\n",
    "import numpy as np\n",
    "from sklearn import cross_validation \n",
    "from sklearn.learning_curve import learning_curve \n",
    "from sklearn.tree import DecisionTreeClassifier \n",
    "from sklearn.ensemble import RandomForestClassifier \n",
    "#from sklearn.metrics import metrics \n",
    "from sklearn.cross_validation import train_test_split \n",
    "from sklearn.grid_search import GridSearchCV \n",
    "from sklearn.cross_validation import ShuffleSplit \n",
    "import seaborn \n",
    "import urllib\n"
   ]
  },
  {
   "cell_type": "code",
   "execution_count": 8,
   "metadata": {},
   "outputs": [],
   "source": [
    "np.random.seed(sum(map(ord, \"aesthetics\"))) \n",
    "seaborn.set_context('notebook') \n",
    "seaborn.set_style(style='darkgrid')\n"
   ]
  },
  {
   "cell_type": "markdown",
   "metadata": {},
   "source": [
    "## Prepring the dataSet\n",
    "Downloading and divinding our dataset into train-data and test-data"
   ]
  },
  {
   "cell_type": "code",
   "execution_count": 9,
   "metadata": {
    "scrolled": true
   },
   "outputs": [
    {
     "name": "stdout",
     "output_type": "stream",
     "text": [
      "(1000, 24) (1000,)\n"
     ]
    }
   ],
   "source": [
    "url=\"http://archive.ics.uci.edu/ml/machine-learning-databases/statlog/german/german.data-numeric\" \n",
    "raw_data = urllib.request.urlopen(url) \n",
    "credit=np.genfromtxt(raw_data) \n",
    "X,y = credit[:,:-1], credit[:,-1:].squeeze()\n",
    "print(X.shape, y.shape)\n",
    "X_train, X_test, y_train, y_test = train_test_split(X,y,test_size=0.2)\n",
    "\n"
   ]
  },
  {
   "cell_type": "markdown",
   "metadata": {},
   "source": [
    "## Fit trees\n",
    "Verifing what's the best parameters to our estimator"
   ]
  },
  {
   "cell_type": "code",
   "execution_count": 10,
   "metadata": {},
   "outputs": [],
   "source": [
    "def fit_trees(n_jobs, max_depth, n_estimators): \n",
    "    estimator = RandomForestClassifier() \n",
    "    cv = ShuffleSplit(X_train.shape[0], n_iter=10, test_size=0.2) \n",
    "    \n",
    "    classifier = GridSearchCV(estimator=estimator, cv=cv, param_grid=dict(n_estimators=n_estimators, max_depth=max_depth), n_jobs=n_jobs, scoring='f1')\n",
    "    \n",
    "    classifier.fit(X_train, y_train)\n",
    "    \n",
    "    print (\"Best Estimator learned through GridSearch\")\n",
    "    print (classifier.best_estimator_)\n",
    "    \n",
    "    return cv, classifier.best_estimator_.max_depth, classifier.best_estimator_.n_estimators"
   ]
  },
  {
   "cell_type": "markdown",
   "metadata": {},
   "source": [
    "## Getting the best parameters"
   ]
  },
  {
   "cell_type": "code",
   "execution_count": 11,
   "metadata": {
    "scrolled": true
   },
   "outputs": [
    {
     "name": "stdout",
     "output_type": "stream",
     "text": [
      "Best Estimator learned through GridSearch\n",
      "RandomForestClassifier(bootstrap=True, class_weight=None, criterion='gini',\n",
      "            max_depth=8.75, max_features='auto', max_leaf_nodes=None,\n",
      "            min_impurity_decrease=0.0, min_impurity_split=None,\n",
      "            min_samples_leaf=1, min_samples_split=2,\n",
      "            min_weight_fraction_leaf=0.0, n_estimators=1000, n_jobs=1,\n",
      "            oob_score=False, random_state=None, verbose=0,\n",
      "            warm_start=False)\n"
     ]
    }
   ],
   "source": [
    "max_depth=np.linspace(5,10,5) \n",
    "n_estimators=[10, 100, 500, 1000] \n",
    " \n",
    "cv,max_depth,n_estimators=fit_trees(n_jobs=10, max_depth=max_depth, n_estimators=n_estimators)"
   ]
  },
  {
   "cell_type": "markdown",
   "metadata": {},
   "source": [
    "## Plot of the test and traning learning curve."
   ]
  },
  {
   "cell_type": "code",
   "execution_count": 12,
   "metadata": {},
   "outputs": [],
   "source": [
    "def plot_learning_curve(estimator, title, X, y, cv=None, n_jobs=1, train_sizes=np.linspace(.1, 1.0, 5)):\n",
    "    plt.figure() \n",
    "    \n",
    "    plt.title(title) \n",
    "    plt.xlabel(\"Training examples\") \n",
    "    plt.ylabel(\"Score\") \n",
    "    \n",
    "    train_sizes, train_scores, test_scores = learning_curve( estimator, X, y, cv=cv, n_jobs=n_jobs, train_sizes=train_sizes) \n",
    "    train_scores_mean = np.mean(train_scores, axis=1) \n",
    "    train_scores_std = np.std(train_scores, axis=1) \n",
    "    test_scores_mean = np.mean(test_scores, axis=1) \n",
    "    test_scores_std = np.std(test_scores, axis=1) \n",
    "    \n",
    "    plt.grid() \n",
    "    \n",
    "    plt.fill_between(train_sizes, train_scores_mean - train_scores_std, train_scores_mean + train_scores_std, alpha=0.1, color=\"r\") \n",
    "    plt.fill_between(train_sizes, test_scores_mean - test_scores_std, test_scores_mean + test_scores_std, alpha=0.1, color=\"g\") \n",
    "    \n",
    "    plt.plot(train_sizes, train_scores_mean, 'o-', color=\"r\", label=\"Training score\") \n",
    "    plt.plot(train_sizes, test_scores_mean, 'o-', color=\"g\", label=\"Cross-validation score\") \n",
    "    \n",
    "    plt.legend(loc=\"best\") \n",
    "    return plt "
   ]
  },
  {
   "cell_type": "code",
   "execution_count": 13,
   "metadata": {},
   "outputs": [
    {
     "data": {
      "image/png": "[encoded data removed]",
      "text/plain": [
       "<matplotlib.figure.Figure at 0x7f0de433c908>"
      ]
     },
     "metadata": {},
     "output_type": "display_data"
    }
   ],
   "source": [
    "title = \"Learning Curves (Random Forests, n_estimators=%.6f)\" %(n_estimators) \n",
    "estimator = RandomForestClassifier(n_estimators=n_estimators,max_depth=max_depth) \n",
    "plot_learning_curve(estimator, title, X_train, y_train, cv=cv) \n",
    "plt.show()"
   ]
  },
  {
   "cell_type": "code",
   "execution_count": 14,
   "metadata": {
    "scrolled": true
   },
   "outputs": [
    {
     "name": "stdout",
     "output_type": "stream",
     "text": [
      "[1. 1. 1. 1. 1. 1. 1. 1. 1. 1. 1. 1. 2. 1. 1. 1. 1. 1. 1. 2. 1. 1. 1. 2.\n",
      " 1. 1. 2. 1. 1. 2. 1. 1. 1. 1. 1. 2. 1. 1. 1. 2. 1. 1. 1. 1. 1. 1. 1. 1.\n",
      " 1. 2. 1. 1. 1. 2. 1. 1. 1. 1. 1. 2. 1. 1. 1. 1. 1. 1. 1. 1. 1. 1. 1. 1.\n",
      " 1. 1. 1. 1. 1. 1. 2. 1. 1. 1. 1. 1. 2. 2. 2. 2. 1. 1. 1. 1. 1. 2. 2. 2.\n",
      " 1. 1. 1. 1. 1. 1. 1. 1. 1. 2. 1. 2. 1. 2. 1. 1. 1. 1. 1. 1. 2. 1. 1. 2.\n",
      " 1. 1. 2. 1. 2. 1. 1. 1. 1. 1. 1. 1. 1. 1. 1. 1. 1. 1. 1. 1. 1. 1. 1. 1.\n",
      " 1. 1. 1. 1. 1. 1. 1. 1. 1. 2. 1. 2. 1. 1. 2. 2. 1. 1. 1. 1. 1. 1. 1. 1.\n",
      " 1. 1. 1. 1. 1. 1. 1. 1. 1. 1. 1. 1. 1. 1. 1. 1. 1. 1. 1. 1. 1. 1. 1. 1.\n",
      " 2. 1. 1. 1. 1. 1. 1. 2.]\n"
     ]
    }
   ],
   "source": [
    "#Let's call fit on the estimator so we can look at feature importances. \n",
    "estimator.fit(X_train,y_train) \n",
    "\n",
    "#Running predictions on Test \n",
    "y_pred=estimator.predict(X_test) \n",
    "print(y_pred)\n",
    "\n"
   ]
  },
  {
   "cell_type": "code",
   "execution_count": 15,
   "metadata": {},
   "outputs": [
    {
     "name": "stdout",
     "output_type": "stream",
     "text": [
      "Statlog Credit Data - Feature Importances\n",
      "\n",
      "[0.15273824 0.10492429 0.07167087 0.12447464 0.06514904 0.05459772\n",
      " 0.03502703 0.03222781 0.04392604 0.09530704 0.02698723 0.01968482\n",
      " 0.01351065 0.01775677 0.00592251 0.02604733 0.01614453 0.01417984\n",
      " 0.01205814 0.0145645  0.02210298 0.00403668 0.01172391 0.01523739]\n"
     ]
    }
   ],
   "source": [
    "print (\"Statlog Credit Data - Feature Importances\\n\") \n",
    "print (estimator.feature_importances_ )"
   ]
  },
  {
   "cell_type": "code",
   "execution_count": 16,
   "metadata": {},
   "outputs": [
    {
     "name": "stdout",
     "output_type": "stream",
     "text": [
      "Top 10 Feature importances\n",
      "1. feature 0 (0.152738)\n",
      "2. feature 3 (0.124475)\n",
      "3. feature 1 (0.104924)\n",
      "4. feature 9 (0.095307)\n",
      "5. feature 2 (0.071671)\n",
      "6. feature 4 (0.065149)\n",
      "7. feature 5 (0.054598)\n",
      "8. feature 8 (0.043926)\n",
      "9. feature 6 (0.035027)\n",
      "10. feature 7 (0.032228)\n"
     ]
    },
    {
     "data": {
      "image/png": "[encoded data removed]",
      "text/plain": [
       "<matplotlib.figure.Figure at 0x7f0de05a8048>"
      ]
     },
     "metadata": {},
     "output_type": "display_data"
    },
    {
     "name": "stdout",
     "output_type": "stream",
     "text": [
      "Mean Feature Importance 0.041667\n"
     ]
    }
   ],
   "source": [
    "# Calculate the feature ranking - Top 10 \n",
    "importances = estimator.feature_importances_ \n",
    "std = np.std([tree.feature_importances_ for tree in estimator.estimators_], axis=0) \n",
    "indices = np.argsort(importances)[::-1] \n",
    "\n",
    "print(\"Top 10 Feature importances\") \n",
    "for f in range(10): \n",
    "    print(\"%d. feature %d (%f)\" % (f + 1, indices[f], importances[indices[f]])) \n",
    "    \n",
    "#Plot the feature importances of the forest \n",
    "indices=indices[:10] \n",
    "plt.figure() \n",
    "plt.title(\"Top 10 Feature importances\") \n",
    "plt.bar(range(10), importances[indices], color=\"r\", yerr=std[indices], align=\"center\") \n",
    "plt.xticks(range(10), indices) \n",
    "plt.xlim([-1, 10]) \n",
    "plt.show() \n",
    "#Mean Feature Importance \n",
    "print (\"Mean Feature Importance %.6f\" %np.mean(importances))"
   ]
  },
  {
   "cell_type": "code",
   "execution_count": 17,
   "metadata": {},
   "outputs": [
    {
     "name": "stdout",
     "output_type": "stream",
     "text": [
      "[1. 1. 1. 1. 1. 1. 1. 1. 1. 1. 1. 1. 2. 1. 1. 1. 1. 1. 1. 2. 1. 1. 1. 2.\n",
      " 1. 1. 2. 1. 1. 2. 1. 1. 1. 1. 1. 2. 1. 1. 1. 2. 1. 1. 1. 1. 1. 1. 1. 1.\n",
      " 1. 1. 1. 1. 1. 2. 1. 1. 1. 1. 1. 2. 1. 1. 1. 1. 1. 1. 1. 1. 1. 1. 1. 1.\n",
      " 1. 2. 1. 1. 1. 1. 2. 1. 1. 1. 1. 1. 2. 2. 2. 2. 1. 1. 1. 1. 1. 2. 2. 2.\n",
      " 1. 1. 1. 1. 1. 1. 1. 1. 1. 2. 1. 2. 1. 2. 1. 1. 1. 1. 1. 1. 2. 1. 1. 2.\n",
      " 1. 1. 2. 1. 2. 1. 1. 1. 1. 1. 1. 1. 1. 1. 1. 1. 1. 1. 1. 1. 1. 1. 1. 1.\n",
      " 1. 1. 1. 1. 1. 1. 1. 1. 1. 2. 1. 2. 1. 1. 2. 2. 1. 1. 1. 1. 1. 1. 1. 1.\n",
      " 1. 1. 1. 1. 1. 1. 1. 1. 1. 1. 1. 1. 1. 1. 1. 1. 1. 1. 1. 1. 1. 1. 1. 1.\n",
      " 2. 1. 1. 1. 1. 1. 1. 1.]\n"
     ]
    }
   ],
   "source": [
    "#Let's call fit on the estimator so we can look at feature importances. \n",
    "estimator.fit(X_train,y_train) \n",
    "#Running predictions on Test \n",
    "y_pred=estimator.predict(X_test) \n",
    "print(y_pred)"
   ]
  },
  {
   "cell_type": "code",
   "execution_count": null,
   "metadata": {},
   "outputs": [],
   "source": []
  },
  {
   "cell_type": "code",
   "execution_count": null,
   "metadata": {},
   "outputs": [],
   "source": []
  },
  {
   "cell_type": "code",
   "execution_count": null,
   "metadata": {},
   "outputs": [],
   "source": []
  },
  {
   "cell_type": "code",
   "execution_count": null,
   "metadata": {},
   "outputs": [],
   "source": []
  },
  {
   "cell_type": "code",
   "execution_count": null,
   "metadata": {},
   "outputs": [],
   "source": []
  }
 ],
 "metadata": {
  "kernelspec": {
   "display_name": "Python 3",
   "language": "python",
   "name": "python3"
  },
  "language_info": {
   "codemirror_mode": {
    "name": "ipython",
    "version": 3
   },
   "file_extension": ".py",
   "mimetype": "text/x-python",
   "name": "python",
   "nbconvert_exporter": "python",
   "pygments_lexer": "ipython3",
   "version": "3.6.4"
  }
 },
 "nbformat": 4,
 "nbformat_minor": 2
}
